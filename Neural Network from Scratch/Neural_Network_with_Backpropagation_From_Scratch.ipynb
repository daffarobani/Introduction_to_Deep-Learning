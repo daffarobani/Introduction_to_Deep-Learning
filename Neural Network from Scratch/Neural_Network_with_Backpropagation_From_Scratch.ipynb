{
 "cells": [
  {
   "cell_type": "code",
   "execution_count": 108,
   "metadata": {},
   "outputs": [],
   "source": [
    "##Initialize Network"
   ]
  },
  {
   "cell_type": "code",
   "execution_count": 109,
   "metadata": {},
   "outputs": [],
   "source": [
    "#Has three parameters: the number of inputs (number of features), the number of neurons to have in the hidden layer,\n",
    "#and the number of outputs\n",
    "def initialize_network(n_inputs,n_hidden, n_outputs):\n",
    "    network = list()\n",
    "    #At each neuron in the hidden layer, it has n_inputs+1 weights that is initially randomized between 0 to 1\n",
    "    hidden_layer = [{'weights': [random() for i in range(n_inputs+1)]} for i in range(n_hidden)]\n",
    "    network.append(hidden_layer)\n",
    "    #At each neuron in the hidden layer, it has n_hidden+1 weights (correspond to each neuron in the hidden layer) \n",
    "    #that is initially randomized between 0 to 1\n",
    "    output_layer = [{'weights': [random() for i in range(n_hidden+1)]} for i in range(n_outputs)]\n",
    "    network.append(output_layer)\n",
    "    return network"
   ]
  },
  {
   "cell_type": "code",
   "execution_count": 110,
   "metadata": {},
   "outputs": [
    {
     "name": "stdout",
     "output_type": "stream",
     "text": [
      "[{'weights': [0.13436424411240122, 0.8474337369372327, 0.763774618976614]}]\n",
      "[{'weights': [0.2550690257394217, 0.49543508709194095]}, {'weights': [0.4494910647887381, 0.651592972722763]}]\n"
     ]
    }
   ],
   "source": [
    "#An example to create a small network\n",
    "from random import seed\n",
    "from random import random\n",
    "\n",
    "seed(1)\n",
    "network = initialize_network(2,1,2)\n",
    "for layer in network:\n",
    "    print(layer)"
   ]
  },
  {
   "cell_type": "code",
   "execution_count": 111,
   "metadata": {},
   "outputs": [],
   "source": [
    "##Forward Propagate"
   ]
  },
  {
   "cell_type": "code",
   "execution_count": 112,
   "metadata": {},
   "outputs": [],
   "source": [
    "#Neuron Activation\n",
    "#Calculate the activation of one neuron given an input\n",
    "def activate(weights, inputs):\n",
    "    activation = weights[-1] #Bias\n",
    "    for i in range(len(weights)-1):\n",
    "        activation += weights[i]*inputs[i]\n",
    "    return activation"
   ]
  },
  {
   "cell_type": "code",
   "execution_count": 113,
   "metadata": {},
   "outputs": [],
   "source": [
    "#Neuron Transfer\n",
    "#Transform the values from the neuron to output\n",
    "#For example sigmoid function\n",
    "def sigmoid(activation):\n",
    "    return 1.0/(1.0+exp(-activation))"
   ]
  },
  {
   "cell_type": "code",
   "execution_count": 114,
   "metadata": {},
   "outputs": [],
   "source": [
    "#Forward propagate input to a network output\n",
    "#Input: network, row(data)\n",
    "def forward_propagate(network, row):\n",
    "    inputs = row #Data as the inputs to the first hidden layer\n",
    "    for layer in network:\n",
    "        new_inputs = []\n",
    "        #Iterate through every layer\n",
    "        for neuron in layer:\n",
    "            activation = activate(neuron['weights'], inputs) #Calculates activation at each neuron in the layer\n",
    "            neuron['output'] = sigmoid(activation) #Calculates output from the activation at each neuron\n",
    "            new_inputs.append(neuron['output']) #The outputs is used as the inputs to the next layer\n",
    "        inputs = new_inputs\n",
    "    return inputs"
   ]
  },
  {
   "cell_type": "code",
   "execution_count": 115,
   "metadata": {},
   "outputs": [
    {
     "name": "stdout",
     "output_type": "stream",
     "text": [
      "[0.6629970129852887, 0.7253160725279748]\n"
     ]
    }
   ],
   "source": [
    "#Example to test forward propagation\n",
    "from math import exp\n",
    "\n",
    "seed(1)\n",
    "network = initialize_network(2,1,2)\n",
    "row = [1,0] #Example of an arbitrary input\n",
    "output = forward_propagate(network, row)\n",
    "print(output)"
   ]
  },
  {
   "cell_type": "code",
   "execution_count": 116,
   "metadata": {},
   "outputs": [],
   "source": [
    "##Back Propagate Error"
   ]
  },
  {
   "cell_type": "code",
   "execution_count": 117,
   "metadata": {},
   "outputs": [],
   "source": [
    "#Transfer Derivative\n",
    "#Calculate slope from an output value of a neuron\n",
    "def transfer_derivative_sigmoid(output):\n",
    "    return output*(1.0-output)"
   ]
  },
  {
   "cell_type": "code",
   "execution_count": 118,
   "metadata": {},
   "outputs": [],
   "source": [
    "#Error Backpropagation\n",
    "def backward_propagate_error(network, expected):\n",
    "    for i in reversed(range(len(network))):\n",
    "        layer = network[i]\n",
    "        errors = list()\n",
    "        if i!= len(network)-1: #For the hidden layer\n",
    "            for j in range(len(layer)):\n",
    "                error = 0.0\n",
    "                for neuron in network[i+1]:\n",
    "                    error += (neuron['weights'][j]*neuron['delta'])\n",
    "                errors.append(error)\n",
    "        else:\n",
    "            for j in range(len(layer)): #Iterate through neurons at output layer\n",
    "                neuron = layer[j]\n",
    "                errors.append(expected[j]-neuron['output'])\n",
    "        for j in range(len(layer)):\n",
    "            neuron = layer[j]\n",
    "            neuron['delta'] = errors[j]*transfer_derivative_sigmoid(neuron['output'])"
   ]
  },
  {
   "cell_type": "code",
   "execution_count": 119,
   "metadata": {},
   "outputs": [
    {
     "name": "stdout",
     "output_type": "stream",
     "text": [
      "[{'weights': [0.7887233511355132, 0.0938595867742349, 0.02834747652200631], 'output': 0.6936142046010635, 'delta': -0.011477619712406795}]\n",
      "[{'weights': [0.8357651039198697, 0.43276706790505337], 'output': 0.7335023968859138, 'delta': -0.1433825771158816}, {'weights': [0.762280082457942, 0.0021060533511106927], 'output': 0.6296776889933221, 'delta': 0.08635312555373359}]\n"
     ]
    }
   ],
   "source": [
    "#Example to test back propagation\n",
    "network = initialize_network(2,1,2)\n",
    "row = [1,0] #Example of an arbitrary input\n",
    "output = forward_propagate(network, row)\n",
    "expected = [0,1]\n",
    "backward_propagate_error(network, expected)\n",
    "for layer in network:\n",
    "    print(layer)"
   ]
  },
  {
   "cell_type": "code",
   "execution_count": 120,
   "metadata": {},
   "outputs": [],
   "source": [
    "##Train Network\n",
    "#The network is trained using stochastic gradient descent.\n",
    "#Process: Forward propagating the input, backward propagating the error, updating the network weights\n",
    "#Divided into two parts: Update weights and Train Network"
   ]
  },
  {
   "cell_type": "code",
   "execution_count": 121,
   "metadata": {},
   "outputs": [],
   "source": [
    "#Update Weights\n",
    "def update_weights(network, row, learning_rate):\n",
    "    #Iterate through layers\n",
    "    for i in range(len(network)): \n",
    "        inputs = row[:-1]\n",
    "        #Except the first hidden layer\n",
    "        if i!=0: \n",
    "            inputs = [neuron['output'] for neuron in network[i-1]] #The inputs is the output from the previous layer\n",
    "        for neuron in network[i]: #Iterate through neurons\n",
    "            for j in range(len(inputs)):\n",
    "                   neuron['weights'][j] += learning_rate*neuron['delta']*inputs[j]\n",
    "            neuron['weights'][-1] += learning_rate*neuron['delta'] #For bias"
   ]
  },
  {
   "cell_type": "code",
   "execution_count": 122,
   "metadata": {},
   "outputs": [],
   "source": [
    "#Train network\n",
    "def train_network(network, train, learning_rate, n_epoch, n_outputs):\n",
    "    for epoch in range(n_epoch):\n",
    "        sum_error = 0\n",
    "        for row in train:\n",
    "            outputs = forward_propagate(network, row)\n",
    "            expected = [0 for i in range(n_outputs)]\n",
    "            expected[row[-1]] = 1\n",
    "            sum_error += sum([(expected[i]-outputs[i])**2 for i in range(len(expected))])\n",
    "            backward_propagate_error(network, expected)\n",
    "            update_weights(network, row, learning_rate)\n",
    "        print('>Epoch=%d, learning_rate=%.3f, error=%.3f' %(epoch, learning_rate, sum_error))"
   ]
  },
  {
   "cell_type": "code",
   "execution_count": null,
   "metadata": {},
   "outputs": [],
   "source": []
  },
  {
   "cell_type": "code",
   "execution_count": 131,
   "metadata": {},
   "outputs": [
    {
     "name": "stdout",
     "output_type": "stream",
     "text": [
      ">Epoch=0, learning_rate=0.500, error=6.350\n",
      ">Epoch=1, learning_rate=0.500, error=5.531\n",
      ">Epoch=2, learning_rate=0.500, error=5.221\n",
      ">Epoch=3, learning_rate=0.500, error=4.951\n",
      ">Epoch=4, learning_rate=0.500, error=4.519\n",
      ">Epoch=5, learning_rate=0.500, error=4.173\n",
      ">Epoch=6, learning_rate=0.500, error=3.835\n",
      ">Epoch=7, learning_rate=0.500, error=3.506\n",
      ">Epoch=8, learning_rate=0.500, error=3.192\n",
      ">Epoch=9, learning_rate=0.500, error=2.898\n",
      ">Epoch=10, learning_rate=0.500, error=2.626\n",
      ">Epoch=11, learning_rate=0.500, error=2.377\n",
      ">Epoch=12, learning_rate=0.500, error=2.153\n",
      ">Epoch=13, learning_rate=0.500, error=1.953\n",
      ">Epoch=14, learning_rate=0.500, error=1.774\n",
      ">Epoch=15, learning_rate=0.500, error=1.614\n",
      ">Epoch=16, learning_rate=0.500, error=1.472\n",
      ">Epoch=17, learning_rate=0.500, error=1.346\n",
      ">Epoch=18, learning_rate=0.500, error=1.233\n",
      ">Epoch=19, learning_rate=0.500, error=1.132\n",
      "[{'weights': [-1.4688375095432327, 1.850887325439514, 1.0858178629550297], 'output': 0.029980305604426185, 'delta': -0.0059546604162323625}, {'weights': [0.37711098142462157, -0.0625909894552989, 0.2765123702642716], 'output': 0.9456229000211323, 'delta': 0.0026279652850863837}]\n",
      "[{'weights': [2.515394649397849, -0.3391927502445985, -0.9671565426390275], 'output': 0.23648794202357587, 'delta': -0.04270059278364587}, {'weights': [-2.5584149848484263, 1.0036422106209202, 0.42383086467582715], 'output': 0.7790535202438367, 'delta': 0.03803132596437354}]\n"
     ]
    }
   ],
   "source": [
    "#Example to learn simple dataset\n",
    "seed(1)\n",
    "dataset = [[2.7810836,2.550537003,0],\n",
    "    [1.465489372,2.362125076,0],\n",
    "    [3.396561688,4.400293529,0],\n",
    "    [1.38807019,1.850220317,0],\n",
    "    [3.06407232,3.005305973,0],\n",
    "    [7.627531214,2.759262235,1],\n",
    "    [5.332441248,2.088626775,1],\n",
    "    [6.922596716,1.77106367,1],\n",
    "    [8.675418651,-0.242068655,1],\n",
    "    [7.673756466,3.508563011,1]]\n",
    "n_inputs = len(dataset[0])-1 #Number of features\n",
    "n_outputs = len(set([row[-1] for row in dataset])) #Number of class\n",
    "network = initialize_network(n_inputs, 2, n_outputs)\n",
    "train_network(network, dataset, 0.5, 20, n_outputs)\n",
    "for layer in network:\n",
    "    print(layer)"
   ]
  },
  {
   "cell_type": "code",
   "execution_count": null,
   "metadata": {},
   "outputs": [],
   "source": [
    "##Prediction"
   ]
  },
  {
   "cell_type": "code",
   "execution_count": 132,
   "metadata": {},
   "outputs": [],
   "source": [
    "#Function to calculate prediction\n",
    "def predict(network, row):\n",
    "    outputs = forward_propagate(network, row)\n",
    "    return outputs.index(max(outputs))"
   ]
  },
  {
   "cell_type": "code",
   "execution_count": 133,
   "metadata": {},
   "outputs": [
    {
     "name": "stdout",
     "output_type": "stream",
     "text": [
      "Expected = 0, Predicted = 0\n",
      "Expected = 0, Predicted = 0\n",
      "Expected = 0, Predicted = 0\n",
      "Expected = 0, Predicted = 0\n",
      "Expected = 0, Predicted = 0\n",
      "Expected = 1, Predicted = 1\n",
      "Expected = 1, Predicted = 1\n",
      "Expected = 1, Predicted = 1\n",
      "Expected = 1, Predicted = 1\n",
      "Expected = 1, Predicted = 1\n"
     ]
    }
   ],
   "source": [
    "for row in dataset:\n",
    "    prediction = predict(network, row)\n",
    "    print('Expected = %d, Predicted = %d' %(row[-1],prediction))"
   ]
  },
  {
   "cell_type": "code",
   "execution_count": null,
   "metadata": {},
   "outputs": [],
   "source": []
  }
 ],
 "metadata": {
  "kernelspec": {
   "display_name": "Python 3",
   "language": "python",
   "name": "python3"
  },
  "language_info": {
   "codemirror_mode": {
    "name": "ipython",
    "version": 3
   },
   "file_extension": ".py",
   "mimetype": "text/x-python",
   "name": "python",
   "nbconvert_exporter": "python",
   "pygments_lexer": "ipython3",
   "version": "3.7.4"
  }
 },
 "nbformat": 4,
 "nbformat_minor": 2
}
